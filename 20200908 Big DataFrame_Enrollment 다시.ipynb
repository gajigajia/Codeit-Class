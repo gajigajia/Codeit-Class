{
 "cells": [
  {
   "cell_type": "code",
   "execution_count": 1,
   "metadata": {},
   "outputs": [],
   "source": [
    "import pandas as pd"
   ]
  },
  {
   "cell_type": "code",
   "execution_count": 2,
   "metadata": {
    "scrolled": true
   },
   "outputs": [
    {
     "data": {
      "text/html": [
       "<div>\n",
       "<style scoped>\n",
       "    .dataframe tbody tr th:only-of-type {\n",
       "        vertical-align: middle;\n",
       "    }\n",
       "\n",
       "    .dataframe tbody tr th {\n",
       "        vertical-align: top;\n",
       "    }\n",
       "\n",
       "    .dataframe thead th {\n",
       "        text-align: right;\n",
       "    }\n",
       "</style>\n",
       "<table border=\"1\" class=\"dataframe\">\n",
       "  <thead>\n",
       "    <tr style=\"text-align: right;\">\n",
       "      <th></th>\n",
       "      <th>id</th>\n",
       "      <th>year</th>\n",
       "      <th>course name</th>\n",
       "    </tr>\n",
       "  </thead>\n",
       "  <tbody>\n",
       "    <tr>\n",
       "      <th>0</th>\n",
       "      <td>2777729</td>\n",
       "      <td>1</td>\n",
       "      <td>science</td>\n",
       "    </tr>\n",
       "    <tr>\n",
       "      <th>1</th>\n",
       "      <td>2777730</td>\n",
       "      <td>2</td>\n",
       "      <td>science</td>\n",
       "    </tr>\n",
       "    <tr>\n",
       "      <th>2</th>\n",
       "      <td>2777765</td>\n",
       "      <td>1</td>\n",
       "      <td>arts</td>\n",
       "    </tr>\n",
       "    <tr>\n",
       "      <th>3</th>\n",
       "      <td>2777766</td>\n",
       "      <td>2</td>\n",
       "      <td>arts</td>\n",
       "    </tr>\n",
       "    <tr>\n",
       "      <th>4</th>\n",
       "      <td>2777785</td>\n",
       "      <td>1</td>\n",
       "      <td>mba</td>\n",
       "    </tr>\n",
       "    <tr>\n",
       "      <th>...</th>\n",
       "      <td>...</td>\n",
       "      <td>...</td>\n",
       "      <td>...</td>\n",
       "    </tr>\n",
       "    <tr>\n",
       "      <th>1995</th>\n",
       "      <td>2796805</td>\n",
       "      <td>3</td>\n",
       "      <td>computer application</td>\n",
       "    </tr>\n",
       "    <tr>\n",
       "      <th>1996</th>\n",
       "      <td>2796812</td>\n",
       "      <td>1</td>\n",
       "      <td>nursing</td>\n",
       "    </tr>\n",
       "    <tr>\n",
       "      <th>1997</th>\n",
       "      <td>2796813</td>\n",
       "      <td>2</td>\n",
       "      <td>nursing</td>\n",
       "    </tr>\n",
       "    <tr>\n",
       "      <th>1998</th>\n",
       "      <td>2796814</td>\n",
       "      <td>3</td>\n",
       "      <td>nursing</td>\n",
       "    </tr>\n",
       "    <tr>\n",
       "      <th>1999</th>\n",
       "      <td>2796815</td>\n",
       "      <td>4</td>\n",
       "      <td>nursing</td>\n",
       "    </tr>\n",
       "  </tbody>\n",
       "</table>\n",
       "<p>2000 rows × 3 columns</p>\n",
       "</div>"
      ],
      "text/plain": [
       "           id  year           course name\n",
       "0     2777729     1               science\n",
       "1     2777730     2               science\n",
       "2     2777765     1                  arts\n",
       "3     2777766     2                  arts\n",
       "4     2777785     1                   mba\n",
       "...       ...   ...                   ...\n",
       "1995  2796805     3  computer application\n",
       "1996  2796812     1               nursing\n",
       "1997  2796813     2               nursing\n",
       "1998  2796814     3               nursing\n",
       "1999  2796815     4               nursing\n",
       "\n",
       "[2000 rows x 3 columns]"
      ]
     },
     "execution_count": 2,
     "metadata": {},
     "output_type": "execute_result"
    }
   ],
   "source": [
    "df = pd.read_csv('Downloads/data/enrolment_1.csv')\n",
    "df"
   ]
  },
  {
   "cell_type": "code",
   "execution_count": 3,
   "metadata": {
    "scrolled": true
   },
   "outputs": [
    {
     "data": {
      "text/html": [
       "<div>\n",
       "<style scoped>\n",
       "    .dataframe tbody tr th:only-of-type {\n",
       "        vertical-align: middle;\n",
       "    }\n",
       "\n",
       "    .dataframe tbody tr th {\n",
       "        vertical-align: top;\n",
       "    }\n",
       "\n",
       "    .dataframe thead th {\n",
       "        text-align: right;\n",
       "    }\n",
       "</style>\n",
       "<table border=\"1\" class=\"dataframe\">\n",
       "  <thead>\n",
       "    <tr style=\"text-align: right;\">\n",
       "      <th></th>\n",
       "      <th>id</th>\n",
       "      <th>year</th>\n",
       "      <th>course name</th>\n",
       "      <th>status</th>\n",
       "    </tr>\n",
       "  </thead>\n",
       "  <tbody>\n",
       "    <tr>\n",
       "      <th>0</th>\n",
       "      <td>2777729</td>\n",
       "      <td>1</td>\n",
       "      <td>science</td>\n",
       "      <td>allowed</td>\n",
       "    </tr>\n",
       "    <tr>\n",
       "      <th>1</th>\n",
       "      <td>2777730</td>\n",
       "      <td>2</td>\n",
       "      <td>science</td>\n",
       "      <td>allowed</td>\n",
       "    </tr>\n",
       "    <tr>\n",
       "      <th>2</th>\n",
       "      <td>2777765</td>\n",
       "      <td>1</td>\n",
       "      <td>arts</td>\n",
       "      <td>allowed</td>\n",
       "    </tr>\n",
       "    <tr>\n",
       "      <th>3</th>\n",
       "      <td>2777766</td>\n",
       "      <td>2</td>\n",
       "      <td>arts</td>\n",
       "      <td>allowed</td>\n",
       "    </tr>\n",
       "    <tr>\n",
       "      <th>4</th>\n",
       "      <td>2777785</td>\n",
       "      <td>1</td>\n",
       "      <td>mba</td>\n",
       "      <td>allowed</td>\n",
       "    </tr>\n",
       "    <tr>\n",
       "      <th>...</th>\n",
       "      <td>...</td>\n",
       "      <td>...</td>\n",
       "      <td>...</td>\n",
       "      <td>...</td>\n",
       "    </tr>\n",
       "    <tr>\n",
       "      <th>1995</th>\n",
       "      <td>2796805</td>\n",
       "      <td>3</td>\n",
       "      <td>computer application</td>\n",
       "      <td>allowed</td>\n",
       "    </tr>\n",
       "    <tr>\n",
       "      <th>1996</th>\n",
       "      <td>2796812</td>\n",
       "      <td>1</td>\n",
       "      <td>nursing</td>\n",
       "      <td>allowed</td>\n",
       "    </tr>\n",
       "    <tr>\n",
       "      <th>1997</th>\n",
       "      <td>2796813</td>\n",
       "      <td>2</td>\n",
       "      <td>nursing</td>\n",
       "      <td>allowed</td>\n",
       "    </tr>\n",
       "    <tr>\n",
       "      <th>1998</th>\n",
       "      <td>2796814</td>\n",
       "      <td>3</td>\n",
       "      <td>nursing</td>\n",
       "      <td>allowed</td>\n",
       "    </tr>\n",
       "    <tr>\n",
       "      <th>1999</th>\n",
       "      <td>2796815</td>\n",
       "      <td>4</td>\n",
       "      <td>nursing</td>\n",
       "      <td>allowed</td>\n",
       "    </tr>\n",
       "  </tbody>\n",
       "</table>\n",
       "<p>2000 rows × 4 columns</p>\n",
       "</div>"
      ],
      "text/plain": [
       "           id  year           course name   status\n",
       "0     2777729     1               science  allowed\n",
       "1     2777730     2               science  allowed\n",
       "2     2777765     1                  arts  allowed\n",
       "3     2777766     2                  arts  allowed\n",
       "4     2777785     1                   mba  allowed\n",
       "...       ...   ...                   ...      ...\n",
       "1995  2796805     3  computer application  allowed\n",
       "1996  2796812     1               nursing  allowed\n",
       "1997  2796813     2               nursing  allowed\n",
       "1998  2796814     3               nursing  allowed\n",
       "1999  2796815     4               nursing  allowed\n",
       "\n",
       "[2000 rows x 4 columns]"
      ]
     },
     "execution_count": 3,
     "metadata": {},
     "output_type": "execute_result"
    }
   ],
   "source": [
    "df['status']=\"allowed\"\n",
    "df"
   ]
  },
  {
   "cell_type": "markdown",
   "metadata": {},
   "source": [
    "“information technology” 과목은 심화과목이라 1학년은 수강할 수 없습니다.\n",
    "“commerce” 과목은 기초과목이고 많은 학생들이 듣는 수업이라 4학년은 수강할 수 없습니다."
   ]
  },
  {
   "cell_type": "code",
   "execution_count": 5,
   "metadata": {
    "scrolled": true
   },
   "outputs": [
    {
     "data": {
      "text/html": [
       "<div>\n",
       "<style scoped>\n",
       "    .dataframe tbody tr th:only-of-type {\n",
       "        vertical-align: middle;\n",
       "    }\n",
       "\n",
       "    .dataframe tbody tr th {\n",
       "        vertical-align: top;\n",
       "    }\n",
       "\n",
       "    .dataframe thead th {\n",
       "        text-align: right;\n",
       "    }\n",
       "</style>\n",
       "<table border=\"1\" class=\"dataframe\">\n",
       "  <thead>\n",
       "    <tr style=\"text-align: right;\">\n",
       "      <th></th>\n",
       "      <th>id</th>\n",
       "      <th>year</th>\n",
       "      <th>course name</th>\n",
       "      <th>status</th>\n",
       "    </tr>\n",
       "  </thead>\n",
       "  <tbody>\n",
       "    <tr>\n",
       "      <th>0</th>\n",
       "      <td>2777729</td>\n",
       "      <td>1</td>\n",
       "      <td>science</td>\n",
       "      <td>allowed</td>\n",
       "    </tr>\n",
       "    <tr>\n",
       "      <th>1</th>\n",
       "      <td>2777730</td>\n",
       "      <td>2</td>\n",
       "      <td>science</td>\n",
       "      <td>allowed</td>\n",
       "    </tr>\n",
       "    <tr>\n",
       "      <th>2</th>\n",
       "      <td>2777765</td>\n",
       "      <td>1</td>\n",
       "      <td>arts</td>\n",
       "      <td>allowed</td>\n",
       "    </tr>\n",
       "    <tr>\n",
       "      <th>3</th>\n",
       "      <td>2777766</td>\n",
       "      <td>2</td>\n",
       "      <td>arts</td>\n",
       "      <td>allowed</td>\n",
       "    </tr>\n",
       "    <tr>\n",
       "      <th>4</th>\n",
       "      <td>2777785</td>\n",
       "      <td>1</td>\n",
       "      <td>mba</td>\n",
       "      <td>allowed</td>\n",
       "    </tr>\n",
       "    <tr>\n",
       "      <th>...</th>\n",
       "      <td>...</td>\n",
       "      <td>...</td>\n",
       "      <td>...</td>\n",
       "      <td>...</td>\n",
       "    </tr>\n",
       "    <tr>\n",
       "      <th>1995</th>\n",
       "      <td>2796805</td>\n",
       "      <td>3</td>\n",
       "      <td>computer application</td>\n",
       "      <td>allowed</td>\n",
       "    </tr>\n",
       "    <tr>\n",
       "      <th>1996</th>\n",
       "      <td>2796812</td>\n",
       "      <td>1</td>\n",
       "      <td>nursing</td>\n",
       "      <td>allowed</td>\n",
       "    </tr>\n",
       "    <tr>\n",
       "      <th>1997</th>\n",
       "      <td>2796813</td>\n",
       "      <td>2</td>\n",
       "      <td>nursing</td>\n",
       "      <td>allowed</td>\n",
       "    </tr>\n",
       "    <tr>\n",
       "      <th>1998</th>\n",
       "      <td>2796814</td>\n",
       "      <td>3</td>\n",
       "      <td>nursing</td>\n",
       "      <td>allowed</td>\n",
       "    </tr>\n",
       "    <tr>\n",
       "      <th>1999</th>\n",
       "      <td>2796815</td>\n",
       "      <td>4</td>\n",
       "      <td>nursing</td>\n",
       "      <td>allowed</td>\n",
       "    </tr>\n",
       "  </tbody>\n",
       "</table>\n",
       "<p>2000 rows × 4 columns</p>\n",
       "</div>"
      ],
      "text/plain": [
       "           id  year           course name   status\n",
       "0     2777729     1               science  allowed\n",
       "1     2777730     2               science  allowed\n",
       "2     2777765     1                  arts  allowed\n",
       "3     2777766     2                  arts  allowed\n",
       "4     2777785     1                   mba  allowed\n",
       "...       ...   ...                   ...      ...\n",
       "1995  2796805     3  computer application  allowed\n",
       "1996  2796812     1               nursing  allowed\n",
       "1997  2796813     2               nursing  allowed\n",
       "1998  2796814     3               nursing  allowed\n",
       "1999  2796815     4               nursing  allowed\n",
       "\n",
       "[2000 rows x 4 columns]"
      ]
     },
     "execution_count": 5,
     "metadata": {},
     "output_type": "execute_result"
    }
   ],
   "source": [
    "infotech = (df['year'] == 1) & (df['course name'] == 'information technology')\n",
    "commerce = (df['year'] == 4) & (df['course name'] == 'commerce')\n",
    "df.loc[infotech, 'status'] = \"not allowed\"\n",
    "df.loc[commerce, 'status'] = \"not allowed\"\n",
    "df"
   ]
  },
  {
   "cell_type": "markdown",
   "metadata": {},
   "source": [
    "수강생이 5명이 되지 않으면 강의는 폐강되어 수강할 수 없습니다.\n",
    "#status = \"allowed\" 가 5개 미만인 course name은 not allowed로 바꿔야 한다 이거지"
   ]
  },
  {
   "cell_type": "code",
   "execution_count": 9,
   "metadata": {
    "scrolled": true
   },
   "outputs": [
    {
     "data": {
      "text/plain": [
       "0       True\n",
       "1       True\n",
       "2       True\n",
       "3       True\n",
       "4       True\n",
       "        ... \n",
       "1995    True\n",
       "1996    True\n",
       "1997    True\n",
       "1998    True\n",
       "1999    True\n",
       "Name: status, Length: 2000, dtype: bool"
      ]
     },
     "execution_count": 9,
     "metadata": {},
     "output_type": "execute_result"
    }
   ],
   "source": [
    "allowed_course = df['status'] == \"allowed\"\n",
    "allowed_course"
   ]
  },
  {
   "cell_type": "markdown",
   "metadata": {},
   "source": [
    "allowed_course가 True인, 'course name'의 수는? 이거네"
   ]
  },
  {
   "cell_type": "code",
   "execution_count": 10,
   "metadata": {
    "scrolled": true
   },
   "outputs": [
    {
     "data": {
      "text/plain": [
       "arts                               158\n",
       "science                            124\n",
       "commerce                           101\n",
       "english                             56\n",
       "education                           41\n",
       "                                  ... \n",
       "library & information & science      1\n",
       "physical edu.                        1\n",
       "dcl                                  1\n",
       "technician                           1\n",
       "punjabi                              1\n",
       "Name: course name, Length: 296, dtype: int64"
      ]
     },
     "execution_count": 10,
     "metadata": {},
     "output_type": "execute_result"
    }
   ],
   "source": [
    "counts = df.loc[allowed_course,'course name'].value_counts()\n",
    "counts"
   ]
  },
  {
   "cell_type": "code",
   "execution_count": 12,
   "metadata": {
    "scrolled": true
   },
   "outputs": [
    {
     "data": {
      "text/plain": [
       "Index(['mech', 'electronics and communication', 'environment', 'bpt',\n",
       "       'electrical and electronics engineering', 'refactoring', 'agriculture',\n",
       "       'instrumentation engineering', 'electronics and instrumentation',\n",
       "       'mechanical engg.',\n",
       "       ...\n",
       "       'b.ed', 'statistics', 'sciences', 'aih', 'full time',\n",
       "       'library & information & science', 'physical edu.', 'dcl', 'technician',\n",
       "       'punjabi'],\n",
       "      dtype='object', length=214)"
      ]
     },
     "execution_count": 12,
     "metadata": {},
     "output_type": "execute_result"
    }
   ],
   "source": [
    "counts[counts<5].index"
   ]
  },
  {
   "cell_type": "code",
   "execution_count": 16,
   "metadata": {
    "scrolled": false
   },
   "outputs": [],
   "source": [
    "closed_course = list(counts[counts<5].index)"
   ]
  },
  {
   "cell_type": "markdown",
   "metadata": {},
   "source": [
    "counts 중에서 counts가 5가 안되는 애들의 index를 뽑고 closed_course가 리스트니까 한 요소당 반복문 for써서 not allowed로 바꿔주는 것이지요"
   ]
  },
  {
   "cell_type": "code",
   "execution_count": 17,
   "metadata": {
    "scrolled": false
   },
   "outputs": [
    {
     "data": {
      "text/html": [
       "<div>\n",
       "<style scoped>\n",
       "    .dataframe tbody tr th:only-of-type {\n",
       "        vertical-align: middle;\n",
       "    }\n",
       "\n",
       "    .dataframe tbody tr th {\n",
       "        vertical-align: top;\n",
       "    }\n",
       "\n",
       "    .dataframe thead th {\n",
       "        text-align: right;\n",
       "    }\n",
       "</style>\n",
       "<table border=\"1\" class=\"dataframe\">\n",
       "  <thead>\n",
       "    <tr style=\"text-align: right;\">\n",
       "      <th></th>\n",
       "      <th>id</th>\n",
       "      <th>year</th>\n",
       "      <th>course name</th>\n",
       "      <th>status</th>\n",
       "    </tr>\n",
       "  </thead>\n",
       "  <tbody>\n",
       "    <tr>\n",
       "      <th>0</th>\n",
       "      <td>2777729</td>\n",
       "      <td>1</td>\n",
       "      <td>science</td>\n",
       "      <td>allowed</td>\n",
       "    </tr>\n",
       "    <tr>\n",
       "      <th>1</th>\n",
       "      <td>2777730</td>\n",
       "      <td>2</td>\n",
       "      <td>science</td>\n",
       "      <td>allowed</td>\n",
       "    </tr>\n",
       "    <tr>\n",
       "      <th>2</th>\n",
       "      <td>2777765</td>\n",
       "      <td>1</td>\n",
       "      <td>arts</td>\n",
       "      <td>allowed</td>\n",
       "    </tr>\n",
       "    <tr>\n",
       "      <th>3</th>\n",
       "      <td>2777766</td>\n",
       "      <td>2</td>\n",
       "      <td>arts</td>\n",
       "      <td>allowed</td>\n",
       "    </tr>\n",
       "    <tr>\n",
       "      <th>4</th>\n",
       "      <td>2777785</td>\n",
       "      <td>1</td>\n",
       "      <td>mba</td>\n",
       "      <td>allowed</td>\n",
       "    </tr>\n",
       "    <tr>\n",
       "      <th>...</th>\n",
       "      <td>...</td>\n",
       "      <td>...</td>\n",
       "      <td>...</td>\n",
       "      <td>...</td>\n",
       "    </tr>\n",
       "    <tr>\n",
       "      <th>1995</th>\n",
       "      <td>2796805</td>\n",
       "      <td>3</td>\n",
       "      <td>computer application</td>\n",
       "      <td>allowed</td>\n",
       "    </tr>\n",
       "    <tr>\n",
       "      <th>1996</th>\n",
       "      <td>2796812</td>\n",
       "      <td>1</td>\n",
       "      <td>nursing</td>\n",
       "      <td>allowed</td>\n",
       "    </tr>\n",
       "    <tr>\n",
       "      <th>1997</th>\n",
       "      <td>2796813</td>\n",
       "      <td>2</td>\n",
       "      <td>nursing</td>\n",
       "      <td>allowed</td>\n",
       "    </tr>\n",
       "    <tr>\n",
       "      <th>1998</th>\n",
       "      <td>2796814</td>\n",
       "      <td>3</td>\n",
       "      <td>nursing</td>\n",
       "      <td>allowed</td>\n",
       "    </tr>\n",
       "    <tr>\n",
       "      <th>1999</th>\n",
       "      <td>2796815</td>\n",
       "      <td>4</td>\n",
       "      <td>nursing</td>\n",
       "      <td>allowed</td>\n",
       "    </tr>\n",
       "  </tbody>\n",
       "</table>\n",
       "<p>2000 rows × 4 columns</p>\n",
       "</div>"
      ],
      "text/plain": [
       "           id  year           course name   status\n",
       "0     2777729     1               science  allowed\n",
       "1     2777730     2               science  allowed\n",
       "2     2777765     1                  arts  allowed\n",
       "3     2777766     2                  arts  allowed\n",
       "4     2777785     1                   mba  allowed\n",
       "...       ...   ...                   ...      ...\n",
       "1995  2796805     3  computer application  allowed\n",
       "1996  2796812     1               nursing  allowed\n",
       "1997  2796813     2               nursing  allowed\n",
       "1998  2796814     3               nursing  allowed\n",
       "1999  2796815     4               nursing  allowed\n",
       "\n",
       "[2000 rows x 4 columns]"
      ]
     },
     "execution_count": 17,
     "metadata": {},
     "output_type": "execute_result"
    }
   ],
   "source": [
    "for course in closed_course :\n",
    "    df.loc[df['course name'] == course, 'status'] = \"not allowed\"\n",
    "df"
   ]
  },
  {
   "cell_type": "code",
   "execution_count": 21,
   "metadata": {
    "scrolled": true
   },
   "outputs": [
    {
     "data": {
      "text/plain": [
       "arts                                   158\n",
       "science                                124\n",
       "commerce                               101\n",
       "english                                 56\n",
       "education                               41\n",
       "                                      ... \n",
       "mca                                      5\n",
       "dental                                   5\n",
       "building construction and mangement      5\n",
       "music                                    5\n",
       "nanotechnology                           5\n",
       "Name: course name, Length: 82, dtype: int64"
      ]
     },
     "execution_count": 21,
     "metadata": {},
     "output_type": "execute_result"
    }
   ],
   "source": [
    "students = df['status'] == \"allowed\"\n",
    "course_students = df.loc[students,'course name'].value_counts()\n",
    "course_students"
   ]
  },
  {
   "cell_type": "code",
   "execution_count": 22,
   "metadata": {},
   "outputs": [],
   "source": [
    "auditorium = list(course_students[course_students >= 80].index)\n",
    "large_room = list(course_students[(course_students < 80) & (course_students >= 40 )].index)\n",
    "medium_room = list(course_students[(course_students < 40) & (course_students >= 15 )].index)\n",
    "small_room = list(course_students[(course_students < 15) & (course_students >= 5 )].index)"
   ]
  },
  {
   "cell_type": "code",
   "execution_count": 25,
   "metadata": {
    "scrolled": true
   },
   "outputs": [
    {
     "data": {
      "text/html": [
       "<div>\n",
       "<style scoped>\n",
       "    .dataframe tbody tr th:only-of-type {\n",
       "        vertical-align: middle;\n",
       "    }\n",
       "\n",
       "    .dataframe tbody tr th {\n",
       "        vertical-align: top;\n",
       "    }\n",
       "\n",
       "    .dataframe thead th {\n",
       "        text-align: right;\n",
       "    }\n",
       "</style>\n",
       "<table border=\"1\" class=\"dataframe\">\n",
       "  <thead>\n",
       "    <tr style=\"text-align: right;\">\n",
       "      <th></th>\n",
       "      <th>id</th>\n",
       "      <th>year</th>\n",
       "      <th>course name</th>\n",
       "      <th>status</th>\n",
       "      <th>room assignment</th>\n",
       "    </tr>\n",
       "  </thead>\n",
       "  <tbody>\n",
       "    <tr>\n",
       "      <th>0</th>\n",
       "      <td>2777729</td>\n",
       "      <td>1</td>\n",
       "      <td>science</td>\n",
       "      <td>allowed</td>\n",
       "      <td>Auditorium</td>\n",
       "    </tr>\n",
       "    <tr>\n",
       "      <th>1</th>\n",
       "      <td>2777730</td>\n",
       "      <td>2</td>\n",
       "      <td>science</td>\n",
       "      <td>allowed</td>\n",
       "      <td>Auditorium</td>\n",
       "    </tr>\n",
       "    <tr>\n",
       "      <th>2</th>\n",
       "      <td>2777765</td>\n",
       "      <td>1</td>\n",
       "      <td>arts</td>\n",
       "      <td>allowed</td>\n",
       "      <td>Auditorium</td>\n",
       "    </tr>\n",
       "    <tr>\n",
       "      <th>3</th>\n",
       "      <td>2777766</td>\n",
       "      <td>2</td>\n",
       "      <td>arts</td>\n",
       "      <td>allowed</td>\n",
       "      <td>Auditorium</td>\n",
       "    </tr>\n",
       "    <tr>\n",
       "      <th>4</th>\n",
       "      <td>2777785</td>\n",
       "      <td>1</td>\n",
       "      <td>mba</td>\n",
       "      <td>allowed</td>\n",
       "      <td>Small room</td>\n",
       "    </tr>\n",
       "    <tr>\n",
       "      <th>...</th>\n",
       "      <td>...</td>\n",
       "      <td>...</td>\n",
       "      <td>...</td>\n",
       "      <td>...</td>\n",
       "      <td>...</td>\n",
       "    </tr>\n",
       "    <tr>\n",
       "      <th>1995</th>\n",
       "      <td>2796805</td>\n",
       "      <td>3</td>\n",
       "      <td>computer application</td>\n",
       "      <td>allowed</td>\n",
       "      <td>Medium room</td>\n",
       "    </tr>\n",
       "    <tr>\n",
       "      <th>1996</th>\n",
       "      <td>2796812</td>\n",
       "      <td>1</td>\n",
       "      <td>nursing</td>\n",
       "      <td>allowed</td>\n",
       "      <td>Medium room</td>\n",
       "    </tr>\n",
       "    <tr>\n",
       "      <th>1997</th>\n",
       "      <td>2796813</td>\n",
       "      <td>2</td>\n",
       "      <td>nursing</td>\n",
       "      <td>allowed</td>\n",
       "      <td>Medium room</td>\n",
       "    </tr>\n",
       "    <tr>\n",
       "      <th>1998</th>\n",
       "      <td>2796814</td>\n",
       "      <td>3</td>\n",
       "      <td>nursing</td>\n",
       "      <td>allowed</td>\n",
       "      <td>Medium room</td>\n",
       "    </tr>\n",
       "    <tr>\n",
       "      <th>1999</th>\n",
       "      <td>2796815</td>\n",
       "      <td>4</td>\n",
       "      <td>nursing</td>\n",
       "      <td>allowed</td>\n",
       "      <td>Medium room</td>\n",
       "    </tr>\n",
       "  </tbody>\n",
       "</table>\n",
       "<p>2000 rows × 5 columns</p>\n",
       "</div>"
      ],
      "text/plain": [
       "           id  year           course name   status room assignment\n",
       "0     2777729     1               science  allowed      Auditorium\n",
       "1     2777730     2               science  allowed      Auditorium\n",
       "2     2777765     1                  arts  allowed      Auditorium\n",
       "3     2777766     2                  arts  allowed      Auditorium\n",
       "4     2777785     1                   mba  allowed      Small room\n",
       "...       ...   ...                   ...      ...             ...\n",
       "1995  2796805     3  computer application  allowed     Medium room\n",
       "1996  2796812     1               nursing  allowed     Medium room\n",
       "1997  2796813     2               nursing  allowed     Medium room\n",
       "1998  2796814     3               nursing  allowed     Medium room\n",
       "1999  2796815     4               nursing  allowed     Medium room\n",
       "\n",
       "[2000 rows x 5 columns]"
      ]
     },
     "execution_count": 25,
     "metadata": {},
     "output_type": "execute_result"
    }
   ],
   "source": [
    "no_student = df['status'] == \"not allowed\"\n",
    "df.loc[no_student,'room assignment'] = \"not assigned\"\n",
    "\n",
    "for course in auditorium :\n",
    "    df.loc[(df['course name']==course) & students, 'room assignment'] = \"Auditorium\"\n",
    "for course in large_room :\n",
    "    df.loc[(df['course name']==course) & students, 'room assignment'] = \"Large room\"\n",
    "for course in medium_room :\n",
    "    df.loc[(df['course name']==course) & students, 'room assignment'] = \"Medium room\"\n",
    "for course in small_room :\n",
    "    df.loc[(df['course name']==course) & students, 'room assignment'] = \"Small room\"\n",
    "    \n",
    "df"
   ]
  },
  {
   "cell_type": "code",
   "execution_count": 26,
   "metadata": {
    "scrolled": true
   },
   "outputs": [
    {
     "data": {
      "text/plain": [
       "not assigned    552\n",
       "Medium room     531\n",
       "Small room      437\n",
       "Auditorium      383\n",
       "Large room       97\n",
       "Name: room assignment, dtype: int64"
      ]
     },
     "execution_count": 26,
     "metadata": {},
     "output_type": "execute_result"
    }
   ],
   "source": [
    "df['room assignment'].value_counts()"
   ]
  },
  {
   "cell_type": "code",
   "execution_count": 28,
   "metadata": {
    "scrolled": true
   },
   "outputs": [
    {
     "data": {
      "text/plain": [
       "arts                                   158\n",
       "science                                124\n",
       "commerce                               101\n",
       "english                                 56\n",
       "education                               41\n",
       "                                      ... \n",
       "mca                                      5\n",
       "dental                                   5\n",
       "building construction and mangement      5\n",
       "music                                    5\n",
       "nanotechnology                           5\n",
       "Name: course name, Length: 82, dtype: int64"
      ]
     },
     "execution_count": 28,
     "metadata": {},
     "output_type": "execute_result"
    }
   ],
   "source": [
    "students = df['status'] == \"allowed\"\n",
    "course_counts = df.loc[students,'course name'].value_counts()\n",
    "course_counts"
   ]
  },
  {
   "cell_type": "code",
   "execution_count": 53,
   "metadata": {},
   "outputs": [
    {
     "ename": "NameError",
     "evalue": "name 'course_counts' is not defined",
     "output_type": "error",
     "traceback": [
      "\u001b[1;31m---------------------------------------------------------------------------\u001b[0m",
      "\u001b[1;31mNameError\u001b[0m                                 Traceback (most recent call last)",
      "\u001b[1;32m<ipython-input-53-79df3cc12b14>\u001b[0m in \u001b[0;36m<module>\u001b[1;34m\u001b[0m\n\u001b[1;32m----> 1\u001b[1;33m \u001b[0mauditorium_list\u001b[0m \u001b[1;33m=\u001b[0m \u001b[0mlist\u001b[0m\u001b[1;33m(\u001b[0m\u001b[0mcourse_counts\u001b[0m\u001b[1;33m[\u001b[0m\u001b[0mcourse_counts\u001b[0m \u001b[1;33m>=\u001b[0m \u001b[1;36m80\u001b[0m\u001b[1;33m]\u001b[0m\u001b[1;33m.\u001b[0m\u001b[0mindex\u001b[0m\u001b[1;33m)\u001b[0m\u001b[1;33m\u001b[0m\u001b[1;33m\u001b[0m\u001b[0m\n\u001b[0m\u001b[0;32m      2\u001b[0m \u001b[0mlarge_room_list\u001b[0m \u001b[1;33m=\u001b[0m \u001b[0mlist\u001b[0m\u001b[1;33m(\u001b[0m\u001b[0mcourse_counts\u001b[0m\u001b[1;33m[\u001b[0m\u001b[1;33m(\u001b[0m\u001b[1;36m80\u001b[0m \u001b[1;33m>\u001b[0m \u001b[0mcourse_counts\u001b[0m\u001b[1;33m)\u001b[0m \u001b[1;33m&\u001b[0m \u001b[1;33m(\u001b[0m\u001b[0mcourse_counts\u001b[0m \u001b[1;33m>=\u001b[0m \u001b[1;36m40\u001b[0m\u001b[1;33m)\u001b[0m\u001b[1;33m]\u001b[0m\u001b[1;33m.\u001b[0m\u001b[0mindex\u001b[0m\u001b[1;33m)\u001b[0m\u001b[1;33m\u001b[0m\u001b[1;33m\u001b[0m\u001b[0m\n\u001b[0;32m      3\u001b[0m \u001b[0mmedium_room_list\u001b[0m \u001b[1;33m=\u001b[0m \u001b[0mlist\u001b[0m\u001b[1;33m(\u001b[0m\u001b[0mcourse_counts\u001b[0m\u001b[1;33m[\u001b[0m\u001b[1;33m(\u001b[0m\u001b[1;36m40\u001b[0m \u001b[1;33m>\u001b[0m \u001b[0mcourse_counts\u001b[0m\u001b[1;33m)\u001b[0m \u001b[1;33m&\u001b[0m \u001b[1;33m(\u001b[0m\u001b[0mcourse_counts\u001b[0m \u001b[1;33m>=\u001b[0m \u001b[1;36m15\u001b[0m\u001b[1;33m)\u001b[0m\u001b[1;33m]\u001b[0m\u001b[1;33m.\u001b[0m\u001b[0mindex\u001b[0m\u001b[1;33m)\u001b[0m\u001b[1;33m\u001b[0m\u001b[1;33m\u001b[0m\u001b[0m\n\u001b[0;32m      4\u001b[0m \u001b[0msmall_room_list\u001b[0m \u001b[1;33m=\u001b[0m \u001b[0mlist\u001b[0m\u001b[1;33m(\u001b[0m\u001b[0mcourse_counts\u001b[0m\u001b[1;33m[\u001b[0m\u001b[1;33m(\u001b[0m\u001b[1;36m15\u001b[0m \u001b[1;33m>\u001b[0m \u001b[0mcourse_counts\u001b[0m\u001b[1;33m)\u001b[0m \u001b[1;33m&\u001b[0m \u001b[1;33m(\u001b[0m\u001b[0mcourse_counts\u001b[0m \u001b[1;33m>\u001b[0m \u001b[1;36m4\u001b[0m\u001b[1;33m)\u001b[0m\u001b[1;33m]\u001b[0m\u001b[1;33m.\u001b[0m\u001b[0mindex\u001b[0m\u001b[1;33m)\u001b[0m\u001b[1;33m\u001b[0m\u001b[1;33m\u001b[0m\u001b[0m\n\u001b[0;32m      5\u001b[0m \u001b[1;33m\u001b[0m\u001b[0m\n",
      "\u001b[1;31mNameError\u001b[0m: name 'course_counts' is not defined"
     ]
    }
   ],
   "source": [
    "auditorium_list = list(course_counts[course_counts >= 80].index)\n",
    "large_room_list = list(course_counts[(80 > course_counts) & (course_counts >= 40)].index)\n",
    "medium_room_list = list(course_counts[(40 > course_counts) & (course_counts >= 15)].index)\n",
    "small_room_list = list(course_counts[(15 > course_counts) & (course_counts > 4)].index)\n",
    "\n",
    "for i in range(len(auditorium_list)):\n",
    "    df.loc[(df[\"course name\"] == sorted(auditorium_list)[i]) & allowed, \"room assignment\"] = \"Auditorium-\" + str(i + 1)\n",
    "\n",
    "for i in range(len(large_room_list)):\n",
    "    df.loc[(df[\"course name\"] == sorted(large_room_list)[i]) & allowed, \"room assignment\"] = \"Large-\" + str(i + 1)\n",
    "    \n",
    "for i in range(len(medium_room_list)):\n",
    "    df.loc[(df[\"course name\"] == sorted(medium_room_list)[i]) & allowed, \"room assignment\"] = \"Medium-\" + str(i + 1)\n",
    "    \n",
    "for i in range(len(small_room_list)):\n",
    "    df.loc[(df[\"course name\"] == sorted(small_room_list)[i]) & allowed, \"room assignment\"] = \"Small-\" + str(i + 1)"
   ]
  }
 ],
 "metadata": {
  "kernelspec": {
   "display_name": "Python 3",
   "language": "python",
   "name": "python3"
  },
  "language_info": {
   "codemirror_mode": {
    "name": "ipython",
    "version": 3
   },
   "file_extension": ".py",
   "mimetype": "text/x-python",
   "name": "python",
   "nbconvert_exporter": "python",
   "pygments_lexer": "ipython3",
   "version": "3.8.3"
  }
 },
 "nbformat": 4,
 "nbformat_minor": 4
}
